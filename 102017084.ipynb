{
 "cells": [
  {
   "cell_type": "code",
   "execution_count": 36,
   "metadata": {},
   "outputs": [],
   "source": [
    "import pandas as pd\n",
    "import numpy as np\n",
    "import scipy.stats as st\n",
    "from sklearn.metrics import accuracy_score"
   ]
  },
  {
   "cell_type": "code",
   "execution_count": 37,
   "metadata": {},
   "outputs": [],
   "source": [
    "df = pd.read_csv('Creditcard_data.csv')"
   ]
  },
  {
   "cell_type": "code",
   "execution_count": 38,
   "metadata": {},
   "outputs": [
    {
     "data": {
      "text/html": [
       "<div>\n",
       "<style scoped>\n",
       "    .dataframe tbody tr th:only-of-type {\n",
       "        vertical-align: middle;\n",
       "    }\n",
       "\n",
       "    .dataframe tbody tr th {\n",
       "        vertical-align: top;\n",
       "    }\n",
       "\n",
       "    .dataframe thead th {\n",
       "        text-align: right;\n",
       "    }\n",
       "</style>\n",
       "<table border=\"1\" class=\"dataframe\">\n",
       "  <thead>\n",
       "    <tr style=\"text-align: right;\">\n",
       "      <th></th>\n",
       "      <th>Time</th>\n",
       "      <th>V1</th>\n",
       "      <th>V2</th>\n",
       "      <th>V3</th>\n",
       "      <th>V4</th>\n",
       "      <th>V5</th>\n",
       "      <th>V6</th>\n",
       "      <th>V7</th>\n",
       "      <th>V8</th>\n",
       "      <th>V9</th>\n",
       "      <th>...</th>\n",
       "      <th>V21</th>\n",
       "      <th>V22</th>\n",
       "      <th>V23</th>\n",
       "      <th>V24</th>\n",
       "      <th>V25</th>\n",
       "      <th>V26</th>\n",
       "      <th>V27</th>\n",
       "      <th>V28</th>\n",
       "      <th>Amount</th>\n",
       "      <th>Class</th>\n",
       "    </tr>\n",
       "  </thead>\n",
       "  <tbody>\n",
       "    <tr>\n",
       "      <th>0</th>\n",
       "      <td>0</td>\n",
       "      <td>-1.359807</td>\n",
       "      <td>-0.072781</td>\n",
       "      <td>2.536347</td>\n",
       "      <td>1.378155</td>\n",
       "      <td>-0.338321</td>\n",
       "      <td>0.462388</td>\n",
       "      <td>0.239599</td>\n",
       "      <td>0.098698</td>\n",
       "      <td>0.363787</td>\n",
       "      <td>...</td>\n",
       "      <td>-0.018307</td>\n",
       "      <td>0.277838</td>\n",
       "      <td>-0.110474</td>\n",
       "      <td>0.066928</td>\n",
       "      <td>0.128539</td>\n",
       "      <td>-0.189115</td>\n",
       "      <td>0.133558</td>\n",
       "      <td>-0.021053</td>\n",
       "      <td>149.62</td>\n",
       "      <td>0</td>\n",
       "    </tr>\n",
       "    <tr>\n",
       "      <th>1</th>\n",
       "      <td>0</td>\n",
       "      <td>1.191857</td>\n",
       "      <td>0.266151</td>\n",
       "      <td>0.166480</td>\n",
       "      <td>0.448154</td>\n",
       "      <td>0.060018</td>\n",
       "      <td>-0.082361</td>\n",
       "      <td>-0.078803</td>\n",
       "      <td>0.085102</td>\n",
       "      <td>-0.255425</td>\n",
       "      <td>...</td>\n",
       "      <td>-0.225775</td>\n",
       "      <td>-0.638672</td>\n",
       "      <td>0.101288</td>\n",
       "      <td>-0.339846</td>\n",
       "      <td>0.167170</td>\n",
       "      <td>0.125895</td>\n",
       "      <td>-0.008983</td>\n",
       "      <td>0.014724</td>\n",
       "      <td>2.69</td>\n",
       "      <td>1</td>\n",
       "    </tr>\n",
       "    <tr>\n",
       "      <th>2</th>\n",
       "      <td>1</td>\n",
       "      <td>-1.358354</td>\n",
       "      <td>-1.340163</td>\n",
       "      <td>1.773209</td>\n",
       "      <td>0.379780</td>\n",
       "      <td>-0.503198</td>\n",
       "      <td>1.800499</td>\n",
       "      <td>0.791461</td>\n",
       "      <td>0.247676</td>\n",
       "      <td>-1.514654</td>\n",
       "      <td>...</td>\n",
       "      <td>0.247998</td>\n",
       "      <td>0.771679</td>\n",
       "      <td>0.909412</td>\n",
       "      <td>-0.689281</td>\n",
       "      <td>-0.327642</td>\n",
       "      <td>-0.139097</td>\n",
       "      <td>-0.055353</td>\n",
       "      <td>-0.059752</td>\n",
       "      <td>378.66</td>\n",
       "      <td>0</td>\n",
       "    </tr>\n",
       "    <tr>\n",
       "      <th>3</th>\n",
       "      <td>1</td>\n",
       "      <td>-0.966272</td>\n",
       "      <td>-0.185226</td>\n",
       "      <td>1.792993</td>\n",
       "      <td>-0.863291</td>\n",
       "      <td>-0.010309</td>\n",
       "      <td>1.247203</td>\n",
       "      <td>0.237609</td>\n",
       "      <td>0.377436</td>\n",
       "      <td>-1.387024</td>\n",
       "      <td>...</td>\n",
       "      <td>-0.108300</td>\n",
       "      <td>0.005274</td>\n",
       "      <td>-0.190321</td>\n",
       "      <td>-1.175575</td>\n",
       "      <td>0.647376</td>\n",
       "      <td>-0.221929</td>\n",
       "      <td>0.062723</td>\n",
       "      <td>0.061458</td>\n",
       "      <td>123.50</td>\n",
       "      <td>0</td>\n",
       "    </tr>\n",
       "    <tr>\n",
       "      <th>4</th>\n",
       "      <td>2</td>\n",
       "      <td>-1.158233</td>\n",
       "      <td>0.877737</td>\n",
       "      <td>1.548718</td>\n",
       "      <td>0.403034</td>\n",
       "      <td>-0.407193</td>\n",
       "      <td>0.095921</td>\n",
       "      <td>0.592941</td>\n",
       "      <td>-0.270533</td>\n",
       "      <td>0.817739</td>\n",
       "      <td>...</td>\n",
       "      <td>-0.009431</td>\n",
       "      <td>0.798278</td>\n",
       "      <td>-0.137458</td>\n",
       "      <td>0.141267</td>\n",
       "      <td>-0.206010</td>\n",
       "      <td>0.502292</td>\n",
       "      <td>0.219422</td>\n",
       "      <td>0.215153</td>\n",
       "      <td>69.99</td>\n",
       "      <td>0</td>\n",
       "    </tr>\n",
       "  </tbody>\n",
       "</table>\n",
       "<p>5 rows × 31 columns</p>\n",
       "</div>"
      ],
      "text/plain": [
       "   Time        V1        V2        V3        V4        V5        V6        V7  \\\n",
       "0     0 -1.359807 -0.072781  2.536347  1.378155 -0.338321  0.462388  0.239599   \n",
       "1     0  1.191857  0.266151  0.166480  0.448154  0.060018 -0.082361 -0.078803   \n",
       "2     1 -1.358354 -1.340163  1.773209  0.379780 -0.503198  1.800499  0.791461   \n",
       "3     1 -0.966272 -0.185226  1.792993 -0.863291 -0.010309  1.247203  0.237609   \n",
       "4     2 -1.158233  0.877737  1.548718  0.403034 -0.407193  0.095921  0.592941   \n",
       "\n",
       "         V8        V9  ...       V21       V22       V23       V24       V25  \\\n",
       "0  0.098698  0.363787  ... -0.018307  0.277838 -0.110474  0.066928  0.128539   \n",
       "1  0.085102 -0.255425  ... -0.225775 -0.638672  0.101288 -0.339846  0.167170   \n",
       "2  0.247676 -1.514654  ...  0.247998  0.771679  0.909412 -0.689281 -0.327642   \n",
       "3  0.377436 -1.387024  ... -0.108300  0.005274 -0.190321 -1.175575  0.647376   \n",
       "4 -0.270533  0.817739  ... -0.009431  0.798278 -0.137458  0.141267 -0.206010   \n",
       "\n",
       "        V26       V27       V28  Amount  Class  \n",
       "0 -0.189115  0.133558 -0.021053  149.62      0  \n",
       "1  0.125895 -0.008983  0.014724    2.69      1  \n",
       "2 -0.139097 -0.055353 -0.059752  378.66      0  \n",
       "3 -0.221929  0.062723  0.061458  123.50      0  \n",
       "4  0.502292  0.219422  0.215153   69.99      0  \n",
       "\n",
       "[5 rows x 31 columns]"
      ]
     },
     "execution_count": 38,
     "metadata": {},
     "output_type": "execute_result"
    }
   ],
   "source": [
    "df.head()"
   ]
  },
  {
   "cell_type": "code",
   "execution_count": 39,
   "metadata": {},
   "outputs": [
    {
     "data": {
      "text/plain": [
       "{0: 763, 1: 9}"
      ]
     },
     "execution_count": 39,
     "metadata": {},
     "output_type": "execute_result"
    }
   ],
   "source": [
    "d = dict(df['Class'].value_counts())\n",
    "d"
   ]
  },
  {
   "cell_type": "code",
   "execution_count": 40,
   "metadata": {},
   "outputs": [],
   "source": [
    "def under_sampling(df : pd.DataFrame,target : str)->pd.DataFrame:\n",
    "    val_counts = dict(df[target].value_counts())\n",
    "    min_vals = min(list(val_counts.values()))\n",
    "    und_samp = pd.DataFrame(columns  = df.columns)\n",
    "    for id in val_counts.keys():\n",
    "        df1 = df[df[target] == id]\n",
    "        df1 = df1.sample(frac = 1)\n",
    "        df1 = df1.iloc[0:min_vals]\n",
    "        und_samp = pd.concat([und_samp,df1])\n",
    "    und_samp = und_samp.sample(frac = 1)\n",
    "    return und_samp"
   ]
  },
  {
   "cell_type": "code",
   "execution_count": 41,
   "metadata": {},
   "outputs": [],
   "source": [
    "und_df = under_sampling(df,'Class')"
   ]
  },
  {
   "cell_type": "code",
   "execution_count": 42,
   "metadata": {},
   "outputs": [
    {
     "data": {
      "text/plain": [
       "1    9\n",
       "0    9\n",
       "Name: Class, dtype: int64"
      ]
     },
     "execution_count": 42,
     "metadata": {},
     "output_type": "execute_result"
    }
   ],
   "source": [
    "und_df['Class'].value_counts()"
   ]
  },
  {
   "cell_type": "code",
   "execution_count": 43,
   "metadata": {},
   "outputs": [],
   "source": [
    "def over_sampling(df : pd.DataFrame,target : str)->pd.DataFrame:\n",
    "   \n",
    "   val_counts = dict(df[target].value_counts())\n",
    "   max_vals = max(list(val_counts.values()))\n",
    "   \n",
    "   ovr_samp = pd.DataFrame(columns  = df.columns)\n",
    "   \n",
    "   for id in val_counts.keys():\n",
    "        \n",
    "      df1 = df[df[target] == id]\n",
    "        \n",
    "      rem = max_vals % df1.shape[0]\n",
    "      copies = max_vals // df1.shape[0]\n",
    "      rem_rows = df1.sample(frac = 1).iloc[0:rem]\n",
    "      \n",
    "      if copies > 0:\n",
    "         df1 = pd.concat([df1]*copies)\n",
    "           \n",
    "      if rem > 0:\n",
    "         df1 = pd.concat([df1,rem_rows])\n",
    "        \n",
    "      ovr_samp = pd.concat([ovr_samp,df1])\n",
    "        \n",
    "      \n",
    "   ovr_samp = ovr_samp.sample(frac = 1)\n",
    "   return ovr_samp\n",
    "     "
   ]
  },
  {
   "cell_type": "code",
   "execution_count": 44,
   "metadata": {},
   "outputs": [],
   "source": [
    "ovr_df = over_sampling(df,'Class')"
   ]
  },
  {
   "cell_type": "code",
   "execution_count": 45,
   "metadata": {},
   "outputs": [
    {
     "data": {
      "text/plain": [
       "1    763\n",
       "0    763\n",
       "Name: Class, dtype: int64"
      ]
     },
     "execution_count": 45,
     "metadata": {},
     "output_type": "execute_result"
    }
   ],
   "source": [
    "ovr_df['Class'].value_counts()"
   ]
  },
  {
   "cell_type": "code",
   "execution_count": 46,
   "metadata": {},
   "outputs": [],
   "source": [
    "def Simple_Random_Sampling(df,z,e,p = 0.5):\n",
    "    z = st.norm.ppf(z)\n",
    "    n = (z**2)*(p*(1-p))//e**2\n",
    "    rand_sample = df.sample(int(n))\n",
    "    return rand_sample\n",
    "    "
   ]
  },
  {
   "cell_type": "code",
   "execution_count": 47,
   "metadata": {},
   "outputs": [
    {
     "data": {
      "text/plain": [
       "0    266\n",
       "1      4\n",
       "Name: Class, dtype: int64"
      ]
     },
     "execution_count": 47,
     "metadata": {},
     "output_type": "execute_result"
    }
   ],
   "source": [
    "Simple_Random_Sampling(df,0.95,0.05)['Class'].value_counts()"
   ]
  },
  {
   "cell_type": "code",
   "execution_count": 48,
   "metadata": {},
   "outputs": [],
   "source": [
    "def Sratified_Sampling(df,tar,z,e,p = 0.5):\n",
    "    s = len(dict(df[tar].value_counts()))\n",
    "    z = st.norm.ppf(z)\n",
    "    n = (z**2)*(p*(1-p))//((e/s)**2)\n",
    "    rows = df.shape[0]\n",
    "    strat_sam = df.groupby(tar, group_keys=False).apply(lambda x: x.sample(frac=n/rows))\n",
    "    return strat_sam"
   ]
  },
  {
   "cell_type": "code",
   "execution_count": 49,
   "metadata": {},
   "outputs": [
    {
     "data": {
      "text/plain": [
       "0    541\n",
       "1    541\n",
       "Name: Class, dtype: int64"
      ]
     },
     "execution_count": 49,
     "metadata": {},
     "output_type": "execute_result"
    }
   ],
   "source": [
    "Sratified_Sampling(ovr_df,'Class',0.95,0.05)['Class'].value_counts()"
   ]
  },
  {
   "cell_type": "code",
   "execution_count": 50,
   "metadata": {},
   "outputs": [],
   "source": [
    "def Cluster_Sampling(df,tar,z,e,c,p = 0.5):\n",
    "    z = st.norm.ppf(z)\n",
    "    rows = df.shape[0]\n",
    "    n = ((z**2)*(p*(1-p))/((e)**2))/(rows - c)\n",
    "    clust = df.sample(frac=n)\n",
    "    return clust\n",
    "    "
   ]
  },
  {
   "cell_type": "code",
   "execution_count": 51,
   "metadata": {},
   "outputs": [
    {
     "data": {
      "text/plain": [
       "0    171\n",
       "1    166\n",
       "Name: Class, dtype: int64"
      ]
     },
     "execution_count": 51,
     "metadata": {},
     "output_type": "execute_result"
    }
   ],
   "source": [
    "Cluster_Sampling(ovr_df,'Class',0.95,0.05,300)['Class'].value_counts()"
   ]
  },
  {
   "cell_type": "code",
   "execution_count": 52,
   "metadata": {},
   "outputs": [],
   "source": [
    "def Systematic_sampling(df,k):\n",
    "    indexes = np.arange(0, len(df), step=k)\n",
    "    systematic_sample = df.iloc[indexes]\n",
    "    return systematic_sample"
   ]
  },
  {
   "cell_type": "code",
   "execution_count": 53,
   "metadata": {},
   "outputs": [
    {
     "data": {
      "text/plain": [
       "0    155\n",
       "1    151\n",
       "Name: Class, dtype: int64"
      ]
     },
     "execution_count": 53,
     "metadata": {},
     "output_type": "execute_result"
    }
   ],
   "source": [
    "Systematic_sampling(ovr_df,5)['Class'].value_counts()"
   ]
  },
  {
   "cell_type": "code",
   "execution_count": 54,
   "metadata": {},
   "outputs": [
    {
     "name": "stdout",
     "output_type": "stream",
     "text": [
      "3828.04 0.0\n"
     ]
    }
   ],
   "source": [
    "print(max(df['Amount']),min(df['Amount']))"
   ]
  },
  {
   "attachments": {},
   "cell_type": "markdown",
   "metadata": {},
   "source": [
    "Convenience Sampling is a method of collecting data in which the investigator selects the items from the population that suits his convenience."
   ]
  },
  {
   "cell_type": "code",
   "execution_count": 55,
   "metadata": {},
   "outputs": [],
   "source": [
    "def Convenience_Sampling(df,par,amt):\n",
    "    return df[df[par]<=amt]"
   ]
  },
  {
   "attachments": {},
   "cell_type": "markdown",
   "metadata": {},
   "source": [
    "Selecting rows where amount is less than 5 "
   ]
  },
  {
   "cell_type": "code",
   "execution_count": 56,
   "metadata": {},
   "outputs": [
    {
     "data": {
      "text/plain": [
       "1    679\n",
       "0    177\n",
       "Name: Class, dtype: int64"
      ]
     },
     "execution_count": 56,
     "metadata": {},
     "output_type": "execute_result"
    }
   ],
   "source": [
    "Convenience_Sampling(ovr_df,'Amount',5)['Class'].value_counts()"
   ]
  },
  {
   "attachments": {},
   "cell_type": "markdown",
   "metadata": {},
   "source": [
    "### Taking Samples from balanced data (Over Sampling) ###"
   ]
  },
  {
   "cell_type": "code",
   "execution_count": 57,
   "metadata": {},
   "outputs": [],
   "source": [
    "sample1 = Simple_Random_Sampling(ovr_df,0.95,0.05)\n",
    "sample2 = Systematic_sampling(ovr_df,5)\n",
    "sample3 = Sratified_Sampling(ovr_df,'Class',0.95,0.05)\n",
    "sample4 = Cluster_Sampling(ovr_df,'Class',0.95,0.05,300)\n",
    "sample5 = Convenience_Sampling(ovr_df,'Amount',5)"
   ]
  },
  {
   "cell_type": "code",
   "execution_count": 58,
   "metadata": {},
   "outputs": [],
   "source": [
    "samples = []\n",
    "samples.append(sample1)\n",
    "samples.append(sample2)\n",
    "samples.append(sample3)\n",
    "samples.append(sample4)\n",
    "samples.append(sample5)"
   ]
  },
  {
   "attachments": {},
   "cell_type": "markdown",
   "metadata": {},
   "source": [
    "### Testing on whole dataset ###"
   ]
  },
  {
   "cell_type": "code",
   "execution_count": 59,
   "metadata": {},
   "outputs": [],
   "source": [
    "x_test = np.array(df.iloc[:,:-1])\n",
    "y_test = np.array(df.iloc[:,-1:].values).reshape(-1,).astype('int')"
   ]
  },
  {
   "attachments": {},
   "cell_type": "markdown",
   "metadata": {},
   "source": [
    "### Model 1  - Logistic Regression ###"
   ]
  },
  {
   "cell_type": "code",
   "execution_count": 60,
   "metadata": {},
   "outputs": [
    {
     "name": "stdout",
     "output_type": "stream",
     "text": [
      "0.8341968911917098\n",
      "0.8626943005181347\n",
      "0.8704663212435233\n",
      "0.8367875647668394\n",
      "0.8082901554404145\n"
     ]
    }
   ],
   "source": [
    "from sklearn.linear_model import LogisticRegression\n",
    "from sklearn.pipeline import make_pipeline\n",
    "from sklearn.preprocessing import StandardScaler\n",
    "logistic_acc = []\n",
    "for sample in samples:\n",
    "    classifier1 = make_pipeline(StandardScaler(), LogisticRegression())\n",
    "    x_train = np.array(sample.iloc[:,:-1])\n",
    "    y_train = np.array(sample.iloc[:,-1:].values).reshape(-1,).astype('int')\n",
    "    classifier1.fit(x_train,y_train)\n",
    "    y_pred = classifier1.predict(x_test)\n",
    "    acc = accuracy_score(y_test,y_pred)\n",
    "    logistic_acc.append(acc)\n",
    "    print(acc)\n",
    "    "
   ]
  },
  {
   "attachments": {},
   "cell_type": "markdown",
   "metadata": {},
   "source": [
    "### Model 2 - SVM ###"
   ]
  },
  {
   "cell_type": "code",
   "execution_count": 61,
   "metadata": {},
   "outputs": [
    {
     "name": "stdout",
     "output_type": "stream",
     "text": [
      "0.8549222797927462\n",
      "0.8575129533678757\n",
      "0.8795336787564767\n",
      "0.8238341968911918\n",
      "0.7448186528497409\n"
     ]
    }
   ],
   "source": [
    "from sklearn.svm import SVC  \n",
    "svm_acc = []\n",
    "for sample in samples:\n",
    "    classifier2 = SVC(kernel='linear') \n",
    "    x_train = np.array(sample.iloc[:,:-1])\n",
    "    y_train = np.array(sample.iloc[:,-1:].values).reshape(-1,).astype('int')\n",
    "    classifier2.fit(x_train,y_train)\n",
    "    y_pred = classifier2.predict(x_test)\n",
    "    acc = accuracy_score(y_test,y_pred)\n",
    "    svm_acc.append(acc)\n",
    "    print(acc)"
   ]
  },
  {
   "attachments": {},
   "cell_type": "markdown",
   "metadata": {},
   "source": [
    "### Model 3  - Random Forest Classifier ###"
   ]
  },
  {
   "cell_type": "code",
   "execution_count": 63,
   "metadata": {},
   "outputs": [
    {
     "name": "stdout",
     "output_type": "stream",
     "text": [
      "0.9883419689119171\n",
      "0.9974093264248705\n",
      "1.0\n",
      "0.9922279792746114\n",
      "0.9987046632124352\n"
     ]
    }
   ],
   "source": [
    "from sklearn.ensemble import RandomForestClassifier\n",
    "knn_acc = []\n",
    "for sample in samples:\n",
    "    classifier3 = RandomForestClassifier() \n",
    "    x_train = np.array(sample.iloc[:,:-1])\n",
    "    y_train = np.array(sample.iloc[:,-1:].values).reshape(-1,).astype('int')\n",
    "    classifier3.fit(x_train,y_train)\n",
    "    y_pred = classifier3.predict(x_test)\n",
    "    acc = accuracy_score(y_test,y_pred)\n",
    "    knn_acc.append(acc)\n",
    "    print(acc)"
   ]
  },
  {
   "attachments": {},
   "cell_type": "markdown",
   "metadata": {},
   "source": [
    "### Model 4 - Decision Tree ###"
   ]
  },
  {
   "cell_type": "code",
   "execution_count": 65,
   "metadata": {},
   "outputs": [
    {
     "name": "stdout",
     "output_type": "stream",
     "text": [
      "0.9520725388601037\n",
      "0.9676165803108808\n",
      "0.9974093264248705\n",
      "0.9676165803108808\n",
      "0.9987046632124352\n"
     ]
    }
   ],
   "source": [
    "from sklearn.tree import DecisionTreeClassifier\n",
    "dtc_acc = []\n",
    "for sample in samples:\n",
    "    classifier4 = DecisionTreeClassifier()\n",
    "    x_train = np.array(sample.iloc[:,:-1])\n",
    "    y_train = np.array(sample.iloc[:,-1:].values).reshape(-1,).astype('int')\n",
    "    classifier4.fit(x_train,y_train)\n",
    "    y_pred = classifier4.predict(x_test)\n",
    "    acc = accuracy_score(y_test,y_pred)\n",
    "    dtc_acc.append(acc)\n",
    "    print(acc)"
   ]
  },
  {
   "attachments": {},
   "cell_type": "markdown",
   "metadata": {},
   "source": [
    "### Model 5 - SGD Classifier ###"
   ]
  },
  {
   "cell_type": "code",
   "execution_count": 66,
   "metadata": {},
   "outputs": [
    {
     "name": "stdout",
     "output_type": "stream",
     "text": [
      "0.3393782383419689\n",
      "0.28367875647668395\n",
      "0.24611398963730569\n",
      "0.7292746113989638\n",
      "0.35621761658031087\n"
     ]
    }
   ],
   "source": [
    "from sklearn.linear_model import SGDClassifier\n",
    "gnb_acc = []\n",
    "for sample in samples:\n",
    "    classifier5  = SGDClassifier()\n",
    "    x_train = np.array(sample.iloc[:,:-1])\n",
    "    y_train = np.array(sample.iloc[:,-1:].values).reshape(-1,).astype('int')\n",
    "    classifier5.fit(x_train,y_train)\n",
    "    y_pred = classifier5.predict(x_test)\n",
    "    acc = accuracy_score(y_test,y_pred)\n",
    "    gnb_acc.append(acc)\n",
    "    print(acc)"
   ]
  },
  {
   "attachments": {},
   "cell_type": "markdown",
   "metadata": {},
   "source": [
    "### COMPARISION ###"
   ]
  },
  {
   "cell_type": "code",
   "execution_count": 68,
   "metadata": {},
   "outputs": [],
   "source": [
    "metrics = pd.DataFrame()\n",
    "metrics['logistic_regression'] = logistic_acc\n",
    "metrics['SVM (linear)'] = svm_acc\n",
    "metrics['Random Forest Classifier'] = knn_acc\n",
    "metrics['Decision_tree'] = dtc_acc\n",
    "metrics['SGDClassifier'] = gnb_acc\n",
    "metrics = metrics.rename(index = {0:'Simple_Random_Sampling',1:'Systematic_sampling',2:'Sratified_Sampling',3:'Cluster_Sampling',4:'Convenience_Sampling'}).T"
   ]
  },
  {
   "cell_type": "code",
   "execution_count": null,
   "metadata": {},
   "outputs": [
    {
     "data": {
      "text/html": [
       "<div>\n",
       "<style scoped>\n",
       "    .dataframe tbody tr th:only-of-type {\n",
       "        vertical-align: middle;\n",
       "    }\n",
       "\n",
       "    .dataframe tbody tr th {\n",
       "        vertical-align: top;\n",
       "    }\n",
       "\n",
       "    .dataframe thead th {\n",
       "        text-align: right;\n",
       "    }\n",
       "</style>\n",
       "<table border=\"1\" class=\"dataframe\">\n",
       "  <thead>\n",
       "    <tr style=\"text-align: right;\">\n",
       "      <th></th>\n",
       "      <th>Simple_Random_Sampling</th>\n",
       "      <th>Systematic_sampling</th>\n",
       "      <th>Sratified_Sampling</th>\n",
       "      <th>Cluster_Sampling</th>\n",
       "      <th>Convenience_Sampling</th>\n",
       "    </tr>\n",
       "  </thead>\n",
       "  <tbody>\n",
       "    <tr>\n",
       "      <th>logistic_regression</th>\n",
       "      <td>0.857513</td>\n",
       "      <td>0.854922</td>\n",
       "      <td>0.866580</td>\n",
       "      <td>0.835492</td>\n",
       "      <td>0.808290</td>\n",
       "    </tr>\n",
       "    <tr>\n",
       "      <th>SVM (linear)</th>\n",
       "      <td>0.841969</td>\n",
       "      <td>0.870466</td>\n",
       "      <td>0.873057</td>\n",
       "      <td>0.831606</td>\n",
       "      <td>0.744819</td>\n",
       "    </tr>\n",
       "    <tr>\n",
       "      <th>KNN (n = 7)</th>\n",
       "      <td>0.836788</td>\n",
       "      <td>0.831606</td>\n",
       "      <td>0.958549</td>\n",
       "      <td>0.866580</td>\n",
       "      <td>0.924870</td>\n",
       "    </tr>\n",
       "    <tr>\n",
       "      <th>Decision_tree</th>\n",
       "      <td>0.976684</td>\n",
       "      <td>0.933938</td>\n",
       "      <td>1.000000</td>\n",
       "      <td>0.961140</td>\n",
       "      <td>0.998705</td>\n",
       "    </tr>\n",
       "    <tr>\n",
       "      <th>SGDClassifier</th>\n",
       "      <td>0.204663</td>\n",
       "      <td>0.020725</td>\n",
       "      <td>0.010363</td>\n",
       "      <td>0.046632</td>\n",
       "      <td>0.119171</td>\n",
       "    </tr>\n",
       "  </tbody>\n",
       "</table>\n",
       "</div>"
      ],
      "text/plain": [
       "                     Simple_Random_Sampling  Systematic_sampling  \\\n",
       "logistic_regression                0.857513             0.854922   \n",
       "SVM (linear)                       0.841969             0.870466   \n",
       "KNN (n = 7)                        0.836788             0.831606   \n",
       "Decision_tree                      0.976684             0.933938   \n",
       "SGDClassifier                      0.204663             0.020725   \n",
       "\n",
       "                     Sratified_Sampling  Cluster_Sampling  \\\n",
       "logistic_regression            0.866580          0.835492   \n",
       "SVM (linear)                   0.873057          0.831606   \n",
       "KNN (n = 7)                    0.958549          0.866580   \n",
       "Decision_tree                  1.000000          0.961140   \n",
       "SGDClassifier                  0.010363          0.046632   \n",
       "\n",
       "                     Convenience_Sampling  \n",
       "logistic_regression              0.808290  \n",
       "SVM (linear)                     0.744819  \n",
       "KNN (n = 7)                      0.924870  \n",
       "Decision_tree                    0.998705  \n",
       "SGDClassifier                    0.119171  "
      ]
     },
     "execution_count": 33,
     "metadata": {},
     "output_type": "execute_result"
    }
   ],
   "source": [
    "metrics"
   ]
  },
  {
   "cell_type": "code",
   "execution_count": null,
   "metadata": {},
   "outputs": [],
   "source": []
  }
 ],
 "metadata": {
  "kernelspec": {
   "display_name": "Python 3",
   "language": "python",
   "name": "python3"
  },
  "language_info": {
   "codemirror_mode": {
    "name": "ipython",
    "version": 3
   },
   "file_extension": ".py",
   "mimetype": "text/x-python",
   "name": "python",
   "nbconvert_exporter": "python",
   "pygments_lexer": "ipython3",
   "version": "3.11.1"
  },
  "orig_nbformat": 4,
  "vscode": {
   "interpreter": {
    "hash": "f333eb4ffd6ae29e05b9567563782410d52d2475b5b17e2e4cb08f562290053b"
   }
  }
 },
 "nbformat": 4,
 "nbformat_minor": 2
}
